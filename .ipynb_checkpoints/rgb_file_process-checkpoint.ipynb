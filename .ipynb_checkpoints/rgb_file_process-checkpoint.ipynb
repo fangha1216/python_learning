{
 "cells": [
  {
   "cell_type": "markdown",
   "metadata": {},
   "source": [
    "[NCL Graphics: Color Table Gallery](https://www.ncl.ucar.edu/Document/Graphics/color_table_gallery.shtml)"
   ]
  },
  {
   "cell_type": "code",
   "execution_count": 13,
   "metadata": {},
   "outputs": [],
   "source": [
    "import numpy as np"
   ]
  },
  {
   "cell_type": "code",
   "execution_count": 26,
   "metadata": {},
   "outputs": [],
   "source": [
    "import matplotlib.pyplot as plt"
   ]
  },
  {
   "cell_type": "code",
   "execution_count": 8,
   "metadata": {},
   "outputs": [],
   "source": [
    "with open('NCV_jaisnd.rgb', 'r') as f:\n",
    "    rgb = f.readlines()"
   ]
  },
  {
   "cell_type": "code",
   "execution_count": 16,
   "metadata": {},
   "outputs": [],
   "source": [
    "rgb_lst = []\n",
    "for i in rgb[2:]:\n",
    "    rgb_lst.append([int(j) for j in i.split()])"
   ]
  },
  {
   "cell_type": "code",
   "execution_count": 17,
   "metadata": {},
   "outputs": [
    {
     "data": {
      "text/plain": [
       "[[46, 0, 127],\n",
       " [45, 0, 133],\n",
       " [43, 0, 139],\n",
       " [40, 0, 144],\n",
       " [37, 0, 150],\n",
       " [34, 0, 155],\n",
       " [31, 0, 160],\n",
       " [27, 0, 165],\n",
       " [23, 0, 169],\n",
       " [19, 0, 174],\n",
       " [14, 0, 178],\n",
       " [10, 0, 182],\n",
       " [5, 0, 186],\n",
       " [0, 0, 190],\n",
       " [0, 4, 194],\n",
       " [0, 10, 197],\n",
       " [0, 15, 201],\n",
       " [0, 21, 204],\n",
       " [0, 26, 207],\n",
       " [0, 32, 210],\n",
       " [0, 38, 213],\n",
       " [0, 44, 216],\n",
       " [0, 49, 219],\n",
       " [0, 55, 221],\n",
       " [0, 61, 224],\n",
       " [0, 67, 226],\n",
       " [0, 73, 228],\n",
       " [0, 78, 230],\n",
       " [0, 84, 232],\n",
       " [0, 90, 234],\n",
       " [0, 95, 236],\n",
       " [0, 100, 237],\n",
       " [0, 106, 239],\n",
       " [0, 111, 240],\n",
       " [0, 116, 242],\n",
       " [0, 121, 243],\n",
       " [0, 126, 244],\n",
       " [0, 131, 245],\n",
       " [0, 136, 246],\n",
       " [0, 141, 247],\n",
       " [0, 145, 248],\n",
       " [0, 150, 249],\n",
       " [0, 154, 249],\n",
       " [0, 158, 250],\n",
       " [0, 162, 251],\n",
       " [0, 166, 251],\n",
       " [0, 170, 252],\n",
       " [0, 174, 252],\n",
       " [0, 178, 253],\n",
       " [0, 181, 253],\n",
       " [0, 185, 253],\n",
       " [0, 188, 253],\n",
       " [0, 192, 254],\n",
       " [0, 195, 254],\n",
       " [0, 198, 254],\n",
       " [0, 201, 254],\n",
       " [0, 204, 254],\n",
       " [0, 208, 254],\n",
       " [0, 211, 254],\n",
       " [0, 214, 254],\n",
       " [0, 217, 254],\n",
       " [1, 220, 254],\n",
       " [1, 223, 254],\n",
       " [2, 225, 254],\n",
       " [2, 228, 255],\n",
       " [3, 231, 255],\n",
       " [4, 234, 255],\n",
       " [5, 237, 255],\n",
       " [6, 240, 255],\n",
       " [7, 243, 255],\n",
       " [8, 246, 255],\n",
       " [9, 249, 255],\n",
       " [10, 252, 255],\n",
       " [12, 255, 254],\n",
       " [13, 255, 251],\n",
       " [15, 255, 248],\n",
       " [16, 255, 245],\n",
       " [18, 255, 242],\n",
       " [20, 255, 239],\n",
       " [21, 255, 236],\n",
       " [23, 255, 233],\n",
       " [25, 255, 230],\n",
       " [28, 255, 227],\n",
       " [30, 255, 224],\n",
       " [32, 255, 221],\n",
       " [34, 255, 218],\n",
       " [37, 255, 215],\n",
       " [39, 255, 212],\n",
       " [42, 255, 209],\n",
       " [45, 255, 206],\n",
       " [47, 255, 204],\n",
       " [50, 255, 201],\n",
       " [53, 255, 198],\n",
       " [56, 255, 196],\n",
       " [59, 255, 193],\n",
       " [63, 255, 191],\n",
       " [66, 255, 189],\n",
       " [69, 255, 187],\n",
       " [73, 255, 185],\n",
       " [76, 255, 183],\n",
       " [80, 255, 181],\n",
       " [84, 255, 180],\n",
       " [88, 255, 178],\n",
       " [91, 255, 177],\n",
       " [96, 255, 176],\n",
       " [100, 255, 175],\n",
       " [104, 255, 175],\n",
       " [108, 255, 175],\n",
       " [113, 255, 174],\n",
       " [117, 255, 174],\n",
       " [122, 255, 175],\n",
       " [127, 255, 175],\n",
       " [132, 255, 176],\n",
       " [137, 255, 178],\n",
       " [142, 255, 179],\n",
       " [148, 255, 181],\n",
       " [154, 255, 183],\n",
       " [159, 255, 186],\n",
       " [165, 255, 188],\n",
       " [172, 255, 192],\n",
       " [178, 255, 196],\n",
       " [185, 255, 200],\n",
       " [192, 255, 205],\n",
       " [200, 255, 210],\n",
       " [209, 255, 216],\n",
       " [218, 255, 223],\n",
       " [229, 255, 232],\n",
       " [243, 255, 244],\n",
       " [251, 255, 243],\n",
       " [248, 255, 229],\n",
       " [245, 255, 218],\n",
       " [243, 255, 209],\n",
       " [242, 255, 200],\n",
       " [241, 255, 192],\n",
       " [240, 255, 185],\n",
       " [240, 255, 178],\n",
       " [239, 255, 172],\n",
       " [239, 255, 165],\n",
       " [239, 255, 159],\n",
       " [240, 255, 154],\n",
       " [240, 255, 148],\n",
       " [241, 255, 142],\n",
       " [242, 255, 137],\n",
       " [242, 255, 132],\n",
       " [243, 255, 127],\n",
       " [244, 255, 122],\n",
       " [245, 255, 117],\n",
       " [247, 255, 113],\n",
       " [248, 255, 108],\n",
       " [249, 255, 104],\n",
       " [251, 255, 100],\n",
       " [252, 255, 96],\n",
       " [254, 255, 91],\n",
       " [255, 254, 88],\n",
       " [255, 252, 84],\n",
       " [255, 250, 80],\n",
       " [255, 248, 76],\n",
       " [255, 247, 73],\n",
       " [255, 245, 69],\n",
       " [255, 243, 66],\n",
       " [255, 241, 63],\n",
       " [255, 239, 59],\n",
       " [255, 237, 56],\n",
       " [255, 235, 53],\n",
       " [255, 233, 50],\n",
       " [255, 231, 47],\n",
       " [255, 228, 45],\n",
       " [255, 226, 42],\n",
       " [255, 224, 39],\n",
       " [255, 222, 37],\n",
       " [255, 219, 34],\n",
       " [255, 217, 32],\n",
       " [255, 215, 30],\n",
       " [255, 212, 28],\n",
       " [255, 210, 25],\n",
       " [255, 207, 23],\n",
       " [255, 204, 21],\n",
       " [255, 202, 20],\n",
       " [255, 199, 18],\n",
       " [255, 196, 16],\n",
       " [255, 193, 15],\n",
       " [255, 190, 13],\n",
       " [255, 187, 12],\n",
       " [255, 183, 10],\n",
       " [255, 180, 9],\n",
       " [255, 177, 8],\n",
       " [255, 173, 7],\n",
       " [255, 170, 6],\n",
       " [255, 166, 5],\n",
       " [255, 162, 4],\n",
       " [255, 158, 3],\n",
       " [255, 154, 2],\n",
       " [254, 150, 2],\n",
       " [254, 146, 1],\n",
       " [254, 142, 1],\n",
       " [254, 138, 0],\n",
       " [254, 133, 0],\n",
       " [254, 129, 0],\n",
       " [254, 124, 0],\n",
       " [254, 119, 0],\n",
       " [254, 114, 0],\n",
       " [254, 109, 0],\n",
       " [254, 104, 0],\n",
       " [254, 99, 0],\n",
       " [253, 94, 0],\n",
       " [253, 88, 0],\n",
       " [253, 83, 0],\n",
       " [253, 77, 0],\n",
       " [252, 71, 0],\n",
       " [252, 65, 0],\n",
       " [251, 59, 0],\n",
       " [251, 53, 0],\n",
       " [250, 47, 0],\n",
       " [249, 41, 0],\n",
       " [249, 34, 0],\n",
       " [248, 28, 0],\n",
       " [247, 21, 0],\n",
       " [246, 15, 0],\n",
       " [245, 8, 0],\n",
       " [244, 2, 0],\n",
       " [243, 0, 4],\n",
       " [242, 0, 10],\n",
       " [240, 0, 17],\n",
       " [239, 0, 24],\n",
       " [237, 0, 30],\n",
       " [236, 0, 37],\n",
       " [234, 0, 43],\n",
       " [232, 0, 49],\n",
       " [230, 0, 55],\n",
       " [228, 0, 61],\n",
       " [226, 0, 67],\n",
       " [224, 0, 73],\n",
       " [221, 0, 79],\n",
       " [219, 0, 84],\n",
       " [216, 0, 89],\n",
       " [213, 0, 94],\n",
       " [210, 0, 99],\n",
       " [207, 0, 104],\n",
       " [204, 0, 108],\n",
       " [201, 0, 112],\n",
       " [197, 0, 116],\n",
       " [194, 0, 119],\n",
       " [190, 0, 122],\n",
       " [186, 0, 125],\n",
       " [182, 0, 127],\n",
       " [178, 0, 129],\n",
       " [174, 0, 130],\n",
       " [169, 0, 132],\n",
       " [165, 0, 132],\n",
       " [160, 0, 133],\n",
       " [155, 0, 132],\n",
       " [150, 0, 132],\n",
       " [144, 0, 131],\n",
       " [139, 0, 129],\n",
       " [133, 0, 127],\n",
       " [127, 0, 125]]"
      ]
     },
     "execution_count": 17,
     "metadata": {},
     "output_type": "execute_result"
    }
   ],
   "source": [
    "rgb_lst"
   ]
  },
  {
   "cell_type": "code",
   "execution_count": 18,
   "metadata": {},
   "outputs": [
    {
     "data": {
      "text/plain": [
       "256"
      ]
     },
     "execution_count": 18,
     "metadata": {},
     "output_type": "execute_result"
    }
   ],
   "source": [
    "len(rgb_lst)"
   ]
  },
  {
   "cell_type": "code",
   "execution_count": 19,
   "metadata": {},
   "outputs": [],
   "source": [
    "rgb_arr = np.array(rgb_lst)"
   ]
  },
  {
   "cell_type": "code",
   "execution_count": 21,
   "metadata": {},
   "outputs": [
    {
     "data": {
      "text/plain": [
       "(256, 3)"
      ]
     },
     "execution_count": 21,
     "metadata": {},
     "output_type": "execute_result"
    }
   ],
   "source": [
    "rgb_arr.shape"
   ]
  },
  {
   "cell_type": "code",
   "execution_count": 24,
   "metadata": {},
   "outputs": [],
   "source": [
    "rgb_arr_re = rgb_arr.reshape(16,16,3)"
   ]
  },
  {
   "cell_type": "code",
   "execution_count": 25,
   "metadata": {},
   "outputs": [
    {
     "data": {
      "text/plain": [
       "(16, 16, 3)"
      ]
     },
     "execution_count": 25,
     "metadata": {},
     "output_type": "execute_result"
    }
   ],
   "source": [
    "rgb_arr_re.shape"
   ]
  },
  {
   "cell_type": "code",
   "execution_count": 31,
   "metadata": {},
   "outputs": [
    {
     "data": {
      "text/plain": [
       "([], <a list of 0 Text yticklabel objects>)"
      ]
     },
     "execution_count": 31,
     "metadata": {},
     "output_type": "execute_result"
    },
    {
     "data": {
      "image/png": "[encoded data removed]",
      "text/plain": [
       "<Figure size 360x360 with 1 Axes>"
      ]
     },
     "metadata": {},
     "output_type": "display_data"
    }
   ],
   "source": [
    "plt.figure(figsize=(5,5))\n",
    "plt.imshow(rgb_arr_re)\n",
    "plt.xticks(())\n",
    "plt.yticks(())"
   ]
  },
  {
   "cell_type": "code",
   "execution_count": 29,
   "metadata": {},
   "outputs": [],
   "source": [
    "np.save('color_map_arr', rgb_arr_re)"
   ]
  },
  {
   "cell_type": "code",
   "execution_count": null,
   "metadata": {},
   "outputs": [],
   "source": []
  }
 ],
 "metadata": {
  "kernelspec": {
   "display_name": "Python 3",
   "language": "python",
   "name": "python3"
  },
  "language_info": {
   "codemirror_mode": {
    "name": "ipython",
    "version": 3
   },
   "file_extension": ".py",
   "mimetype": "text/x-python",
   "name": "python",
   "nbconvert_exporter": "python",
   "pygments_lexer": "ipython3",
   "version": "3.7.3"
  }
 },
 "nbformat": 4,
 "nbformat_minor": 2
}
